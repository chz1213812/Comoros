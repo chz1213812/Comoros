{
 "cells": [
  {
   "cell_type": "code",
   "execution_count": null,
   "metadata": {},
   "outputs": [],
   "source": [
    "ffmpeg -i \"/Volumes/Entire copy 2/Original/S25 - Ouzini Milimani/5-7Sept J8/20230904_191039.WAV\" -ss 01:49:22 -to 01:54:21 -c copy \"/Users/caihanzhe/Desktop/17/20230904_210001.WAV\"\n"
   ]
  }
 ],
 "metadata": {
  "language_info": {
   "name": "python"
  }
 },
 "nbformat": 4,
 "nbformat_minor": 2
}
