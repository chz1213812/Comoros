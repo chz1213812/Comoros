{
 "cells": [
  {
   "cell_type": "code",
   "execution_count": 6,
   "metadata": {},
   "outputs": [],
   "source": [
    "import pandas as pd\n",
    "\n",
    "pts_landsat_stats_df = pd.read_csv('/Users/caihanzhe/Desktop/ptsLandsatStatsExport.csv')\n",
    "\n",
    "pts_landsat_stats_df['NDVI'] = (pts_landsat_stats_df['ls_nir'] - pts_landsat_stats_df['ls_red']) / (pts_landsat_stats_df['ls_nir'] + pts_landsat_stats_df['ls_red'])\n",
    "\n",
    "mean_ndvi_df = pts_landsat_stats_df.groupby('plot_id')['NDVI'].mean().reset_index()\n",
    "\n",
    "def classify_forest_cover(ndvi):\n",
    "    if ndvi > 0.35:\n",
    "        return 'High'\n",
    "    elif 0.2 <= ndvi <= 0.35:\n",
    "        return 'Medium'\n",
    "    elif ndvi < 0.2:\n",
    "        return 'Low'\n",
    "    \n",
    "mean_ndvi_df['Forest_Cover'] = mean_ndvi_df['NDVI'].apply(classify_forest_cover)\n",
    "\n",
    "mean_ndvi_df.to_csv('Users/caihanzhe/Desktop/mean_ndvi_values.csv', index=False)\n"
   ]
  }
 ],
 "metadata": {
  "kernelspec": {
   "display_name": "Python 3",
   "language": "python",
   "name": "python3"
  },
  "language_info": {
   "codemirror_mode": {
    "name": "ipython",
    "version": 3
   },
   "file_extension": ".py",
   "mimetype": "text/x-python",
   "name": "python",
   "nbconvert_exporter": "python",
   "pygments_lexer": "ipython3",
   "version": "3.12.2"
  }
 },
 "nbformat": 4,
 "nbformat_minor": 2
}
